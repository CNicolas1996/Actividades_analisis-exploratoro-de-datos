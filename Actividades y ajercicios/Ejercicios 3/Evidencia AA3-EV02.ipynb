{
 "cells": [
  {
   "metadata": {},
   "cell_type": "markdown",
   "source": [
    "# Presetnacion Evidencia AA3-EV02 \n",
    "## Carlos Nicolas Lopez Cortes\n",
    "\n",
    "El presente notebookc contiene el procesos ejecutado y explicado de imporacion, limpieza y exploracion de datos requerido en el Estudio de caso: análisis exploratorio de datos."
   ],
   "id": "214d8db2485fc991"
  },
  {
   "cell_type": "code",
   "id": "initial_id",
   "metadata": {
    "collapsed": true,
    "ExecuteTime": {
     "end_time": "2024-07-15T18:59:22.760186Z",
     "start_time": "2024-07-15T18:59:22.755153Z"
    }
   },
   "source": [
    "import pandas as pd\n",
    "import numpy as np\n",
    "import matplotlib.pyplot as plt\n",
    "import seaborn as sns"
   ],
   "outputs": [],
   "execution_count": 38
  },
  {
   "metadata": {},
   "cell_type": "markdown",
   "source": "##  Importacion de los datos        ",
   "id": "76934b5af8d85536"
  },
  {
   "metadata": {
    "ExecuteTime": {
     "end_time": "2024-07-15T19:27:29.012942Z",
     "start_time": "2024-07-15T19:27:28.991066Z"
    }
   },
   "cell_type": "code",
   "source": [
    "df = pd.read_csv('C:\\\\Users\\\\moonw\\\\Documents\\\\Sena\\\\Analisis exploratorio de datos Python\\\\Actividades y ajercicios\\\\Ejercicios 3\\\\Anexos\\\\Data_Caso_Propuesto.csv')\n",
    "df"
   ],
   "id": "a26ff9d68dfa246d",
   "outputs": [
    {
     "data": {
      "text/plain": [
       "     Codigo    Ciudad     Departamento             Barrio  \\\n",
       "0     17180    BOGOTA     CUNDINAMARCA                NaN   \n",
       "1     19292    BOGOTA     CUNDINAMARCA                NaN   \n",
       "2     19292    BOGOTA     CUNDINAMARCA                NaN   \n",
       "3      2575  SOGAMOSO           BOYACÁ             CENTRO   \n",
       "4     11409      BUGA  VALLE DEL CAUCA  VEREDA CHAMBIMBAL   \n",
       "..      ...       ...              ...                ...   \n",
       "458   12709      CALI  VALLE DEL CAUCA   PRADOS DEL NORTE   \n",
       "459   17992    BOGOTA     CUNDINAMARCA                NaN   \n",
       "460   12708      CALI  VALLE DEL CAUCA   PRADOS DEL NORTE   \n",
       "461   12706      CALI  VALLE DEL CAUCA   PRADOS DEL NORTE   \n",
       "462   12707      CALI  VALLE DEL CAUCA   PRADOS DEL NORTE   \n",
       "\n",
       "                                                                    Direccion  \\\n",
       "0                                                   AV CR 7 NO. 166 - 51 LT B   \n",
       "1                                                           CL 72 No. 12 - 77   \n",
       "2                                                           CL 72 No. 12 - 77   \n",
       "3    CRA. 10 #11- 78/80 Ó CL 12 # 9 - 77/85 Ó CALLE 12 # 9 - 65/73 - SOGAMOSO   \n",
       "4    LT A1-A24 B1-B79 C1-C51 D1-D9 STA ROSA LT1-46 LT  1-7 1-10 1-11 KR 8 -37   \n",
       "..                                                                        ...   \n",
       "458                      CL 30N #  2B-38 LOCAL 562  CENTRO COMERCIAL SANTIAGO   \n",
       "459                                                           CR 70 NO. 49-77   \n",
       "460                       CL 30N #  2B-38 LOCAL 564 CENTRO COMERCIAL SANTIAGO   \n",
       "461                       CL 30N #  2B-38 LOCAL 367 CENTRO COMERCIAL SANTIAGO   \n",
       "462                       CL 30N #  2B-38 LOCAL 370 CENTRO COMERCIAL SANTIAGO   \n",
       "\n",
       "     Area Terreno  Area Construida            Detalle Disponibilidad  \\\n",
       "0            0.00              0.0   COMERCIALIZABLE CON RESTRICCION   \n",
       "1            0.00              0.0                   COMERCIALIZABLE   \n",
       "2            0.00              0.0  COMERCIALIZABLE VENTA ANTICIPADA   \n",
       "3         1655.08           7269.0   COMERCIALIZABLE CON RESTRICCION   \n",
       "4      3217197.00          22724.0           COMERCIALIZABLE FIDUCIA   \n",
       "..            ...              ...                               ...   \n",
       "458          0.00              0.0   COMERCIALIZABLE CON RESTRICCION   \n",
       "459          0.00              0.0   COMERCIALIZABLE CON RESTRICCION   \n",
       "460          0.00              0.0   COMERCIALIZABLE CON RESTRICCION   \n",
       "461          0.00              0.0   COMERCIALIZABLE CON RESTRICCION   \n",
       "462          0.00              0.0   COMERCIALIZABLE CON RESTRICCION   \n",
       "\n",
       "       Estrato        Precio Tipo de Inmueble  \\\n",
       "0         TRES  2.958081e+10   LOTE COMERCIAL   \n",
       "1    COMERCIAL  1.646059e+10         EDIFICIO   \n",
       "2    COMERCIAL  1.646059e+10         EDIFICIO   \n",
       "3       CUATRO  1.376828e+10          CLINICA   \n",
       "4        RURAL  4.523379e+10       LOTE MIXTO   \n",
       "..         ...           ...              ...   \n",
       "458     CUATRO  2.960534e+07            LOCAL   \n",
       "459     CUATRO  1.448242e+09             CASA   \n",
       "460     CUATRO  2.070134e+07            LOCAL   \n",
       "461     CUATRO  2.060800e+07            LOCAL   \n",
       "462     CUATRO  2.060800e+07            LOCAL   \n",
       "\n",
       "                                                                                                                                                                                                                                              Datos Adicionales  \n",
       "0                                                                                                                                                                                                  ESTE INMUEBLE SE COMERCIALIZARÁ A TRAVES DE SUBASTA ESPECIAL  \n",
       "1                                                                                                                                                                                                                                                           NaN  \n",
       "2                                                                                                                                                                                                                                                           NaN  \n",
       "3                                                                                                                                                                                                   ESTE INMUEBLE SE COMERCIALIZARÁ A TRAVÉS DE SUBASTA PÚBLICA  \n",
       "4                                                                                                                                                                                                                                                           NaN  \n",
       "..                                                                                                                                                                                                                                                          ...  \n",
       "458  ¡OPORTUNIDAD PARA INVERTIR! LOCAL EN PROINDIVISO, UBICADO EN EL NORTE DE CALI CON CERCANIA A PUNTOS INTERES COMO LA TERMINAL DE TRANSPORTES, COLEGIO HISPANOAMERICANO, EL VIVERO MUNICIPAL, EL MONUMENTO A LA SOLIDARIDAD, CLUB COLOMBIA Y PARQUE VERSALLE  \n",
       "459                                                                                                                                                                                                                                                         NaN  \n",
       "460  ¡OPORTUNIDAD PARA INVERTIR! LOCAL EN PROINDIVISO, UBICADO EN EL NORTE DE CALI CON CERCANIA A PUNTOS INTERES COMO LA TERMINAL DE TRANSPORTES, COLEGIO HISPANOAMERICANO, EL VIVERO MUNICIPAL, EL MONUMENTO A LA SOLIDARIDAD, CLUB COLOMBIA Y PARQUE VERSALLE  \n",
       "461  ¡OPORTUNIDAD PARA INVERTIR! LOCAL EN PROINDIVISO, UBICADO EN EL NORTE DE CALI CON CERCANIA A PUNTOS INTERES COMO LA TERMINAL DE TRANSPORTES, COLEGIO HISPANOAMERICANO, EL VIVERO MUNICIPAL, EL MONUMENTO A LA SOLIDARIDAD, CLUB COLOMBIA Y PARQUE VERSALLE  \n",
       "462  ¡OPORTUNIDAD PARA INVERTIR! LOCAL EN PROINDIVISO, UBICADO EN EL NORTE DE CALI CON CERCANIA A PUNTOS INTERES COMO LA TERMINAL DE TRANSPORTES, COLEGIO HISPANOAMERICANO, EL VIVERO MUNICIPAL, EL MONUMENTO A LA SOLIDARIDAD, CLUB COLOMBIA Y PARQUE VERSALLE  \n",
       "\n",
       "[463 rows x 12 columns]"
      ],
      "text/html": [
       "<div>\n",
       "<style scoped>\n",
       "    .dataframe tbody tr th:only-of-type {\n",
       "        vertical-align: middle;\n",
       "    }\n",
       "\n",
       "    .dataframe tbody tr th {\n",
       "        vertical-align: top;\n",
       "    }\n",
       "\n",
       "    .dataframe thead th {\n",
       "        text-align: right;\n",
       "    }\n",
       "</style>\n",
       "<table border=\"1\" class=\"dataframe\">\n",
       "  <thead>\n",
       "    <tr style=\"text-align: right;\">\n",
       "      <th></th>\n",
       "      <th>Codigo</th>\n",
       "      <th>Ciudad</th>\n",
       "      <th>Departamento</th>\n",
       "      <th>Barrio</th>\n",
       "      <th>Direccion</th>\n",
       "      <th>Area Terreno</th>\n",
       "      <th>Area Construida</th>\n",
       "      <th>Detalle Disponibilidad</th>\n",
       "      <th>Estrato</th>\n",
       "      <th>Precio</th>\n",
       "      <th>Tipo de Inmueble</th>\n",
       "      <th>Datos Adicionales</th>\n",
       "    </tr>\n",
       "  </thead>\n",
       "  <tbody>\n",
       "    <tr>\n",
       "      <th>0</th>\n",
       "      <td>17180</td>\n",
       "      <td>BOGOTA</td>\n",
       "      <td>CUNDINAMARCA</td>\n",
       "      <td>NaN</td>\n",
       "      <td>AV CR 7 NO. 166 - 51 LT B</td>\n",
       "      <td>0.00</td>\n",
       "      <td>0.0</td>\n",
       "      <td>COMERCIALIZABLE CON RESTRICCION</td>\n",
       "      <td>TRES</td>\n",
       "      <td>2.958081e+10</td>\n",
       "      <td>LOTE COMERCIAL</td>\n",
       "      <td>ESTE INMUEBLE SE COMERCIALIZARÁ A TRAVES DE SUBASTA ESPECIAL</td>\n",
       "    </tr>\n",
       "    <tr>\n",
       "      <th>1</th>\n",
       "      <td>19292</td>\n",
       "      <td>BOGOTA</td>\n",
       "      <td>CUNDINAMARCA</td>\n",
       "      <td>NaN</td>\n",
       "      <td>CL 72 No. 12 - 77</td>\n",
       "      <td>0.00</td>\n",
       "      <td>0.0</td>\n",
       "      <td>COMERCIALIZABLE</td>\n",
       "      <td>COMERCIAL</td>\n",
       "      <td>1.646059e+10</td>\n",
       "      <td>EDIFICIO</td>\n",
       "      <td>NaN</td>\n",
       "    </tr>\n",
       "    <tr>\n",
       "      <th>2</th>\n",
       "      <td>19292</td>\n",
       "      <td>BOGOTA</td>\n",
       "      <td>CUNDINAMARCA</td>\n",
       "      <td>NaN</td>\n",
       "      <td>CL 72 No. 12 - 77</td>\n",
       "      <td>0.00</td>\n",
       "      <td>0.0</td>\n",
       "      <td>COMERCIALIZABLE VENTA ANTICIPADA</td>\n",
       "      <td>COMERCIAL</td>\n",
       "      <td>1.646059e+10</td>\n",
       "      <td>EDIFICIO</td>\n",
       "      <td>NaN</td>\n",
       "    </tr>\n",
       "    <tr>\n",
       "      <th>3</th>\n",
       "      <td>2575</td>\n",
       "      <td>SOGAMOSO</td>\n",
       "      <td>BOYACÁ</td>\n",
       "      <td>CENTRO</td>\n",
       "      <td>CRA. 10 #11- 78/80 Ó CL 12 # 9 - 77/85 Ó CALLE 12 # 9 - 65/73 - SOGAMOSO</td>\n",
       "      <td>1655.08</td>\n",
       "      <td>7269.0</td>\n",
       "      <td>COMERCIALIZABLE CON RESTRICCION</td>\n",
       "      <td>CUATRO</td>\n",
       "      <td>1.376828e+10</td>\n",
       "      <td>CLINICA</td>\n",
       "      <td>ESTE INMUEBLE SE COMERCIALIZARÁ A TRAVÉS DE SUBASTA PÚBLICA</td>\n",
       "    </tr>\n",
       "    <tr>\n",
       "      <th>4</th>\n",
       "      <td>11409</td>\n",
       "      <td>BUGA</td>\n",
       "      <td>VALLE DEL CAUCA</td>\n",
       "      <td>VEREDA CHAMBIMBAL</td>\n",
       "      <td>LT A1-A24 B1-B79 C1-C51 D1-D9 STA ROSA LT1-46 LT  1-7 1-10 1-11 KR 8 -37</td>\n",
       "      <td>3217197.00</td>\n",
       "      <td>22724.0</td>\n",
       "      <td>COMERCIALIZABLE FIDUCIA</td>\n",
       "      <td>RURAL</td>\n",
       "      <td>4.523379e+10</td>\n",
       "      <td>LOTE MIXTO</td>\n",
       "      <td>NaN</td>\n",
       "    </tr>\n",
       "    <tr>\n",
       "      <th>...</th>\n",
       "      <td>...</td>\n",
       "      <td>...</td>\n",
       "      <td>...</td>\n",
       "      <td>...</td>\n",
       "      <td>...</td>\n",
       "      <td>...</td>\n",
       "      <td>...</td>\n",
       "      <td>...</td>\n",
       "      <td>...</td>\n",
       "      <td>...</td>\n",
       "      <td>...</td>\n",
       "      <td>...</td>\n",
       "    </tr>\n",
       "    <tr>\n",
       "      <th>458</th>\n",
       "      <td>12709</td>\n",
       "      <td>CALI</td>\n",
       "      <td>VALLE DEL CAUCA</td>\n",
       "      <td>PRADOS DEL NORTE</td>\n",
       "      <td>CL 30N #  2B-38 LOCAL 562  CENTRO COMERCIAL SANTIAGO</td>\n",
       "      <td>0.00</td>\n",
       "      <td>0.0</td>\n",
       "      <td>COMERCIALIZABLE CON RESTRICCION</td>\n",
       "      <td>CUATRO</td>\n",
       "      <td>2.960534e+07</td>\n",
       "      <td>LOCAL</td>\n",
       "      <td>¡OPORTUNIDAD PARA INVERTIR! LOCAL EN PROINDIVISO, UBICADO EN EL NORTE DE CALI CON CERCANIA A PUNTOS INTERES COMO LA TERMINAL DE TRANSPORTES, COLEGIO HISPANOAMERICANO, EL VIVERO MUNICIPAL, EL MONUMENTO A LA SOLIDARIDAD, CLUB COLOMBIA Y PARQUE VERSALLE</td>\n",
       "    </tr>\n",
       "    <tr>\n",
       "      <th>459</th>\n",
       "      <td>17992</td>\n",
       "      <td>BOGOTA</td>\n",
       "      <td>CUNDINAMARCA</td>\n",
       "      <td>NaN</td>\n",
       "      <td>CR 70 NO. 49-77</td>\n",
       "      <td>0.00</td>\n",
       "      <td>0.0</td>\n",
       "      <td>COMERCIALIZABLE CON RESTRICCION</td>\n",
       "      <td>CUATRO</td>\n",
       "      <td>1.448242e+09</td>\n",
       "      <td>CASA</td>\n",
       "      <td>NaN</td>\n",
       "    </tr>\n",
       "    <tr>\n",
       "      <th>460</th>\n",
       "      <td>12708</td>\n",
       "      <td>CALI</td>\n",
       "      <td>VALLE DEL CAUCA</td>\n",
       "      <td>PRADOS DEL NORTE</td>\n",
       "      <td>CL 30N #  2B-38 LOCAL 564 CENTRO COMERCIAL SANTIAGO</td>\n",
       "      <td>0.00</td>\n",
       "      <td>0.0</td>\n",
       "      <td>COMERCIALIZABLE CON RESTRICCION</td>\n",
       "      <td>CUATRO</td>\n",
       "      <td>2.070134e+07</td>\n",
       "      <td>LOCAL</td>\n",
       "      <td>¡OPORTUNIDAD PARA INVERTIR! LOCAL EN PROINDIVISO, UBICADO EN EL NORTE DE CALI CON CERCANIA A PUNTOS INTERES COMO LA TERMINAL DE TRANSPORTES, COLEGIO HISPANOAMERICANO, EL VIVERO MUNICIPAL, EL MONUMENTO A LA SOLIDARIDAD, CLUB COLOMBIA Y PARQUE VERSALLE</td>\n",
       "    </tr>\n",
       "    <tr>\n",
       "      <th>461</th>\n",
       "      <td>12706</td>\n",
       "      <td>CALI</td>\n",
       "      <td>VALLE DEL CAUCA</td>\n",
       "      <td>PRADOS DEL NORTE</td>\n",
       "      <td>CL 30N #  2B-38 LOCAL 367 CENTRO COMERCIAL SANTIAGO</td>\n",
       "      <td>0.00</td>\n",
       "      <td>0.0</td>\n",
       "      <td>COMERCIALIZABLE CON RESTRICCION</td>\n",
       "      <td>CUATRO</td>\n",
       "      <td>2.060800e+07</td>\n",
       "      <td>LOCAL</td>\n",
       "      <td>¡OPORTUNIDAD PARA INVERTIR! LOCAL EN PROINDIVISO, UBICADO EN EL NORTE DE CALI CON CERCANIA A PUNTOS INTERES COMO LA TERMINAL DE TRANSPORTES, COLEGIO HISPANOAMERICANO, EL VIVERO MUNICIPAL, EL MONUMENTO A LA SOLIDARIDAD, CLUB COLOMBIA Y PARQUE VERSALLE</td>\n",
       "    </tr>\n",
       "    <tr>\n",
       "      <th>462</th>\n",
       "      <td>12707</td>\n",
       "      <td>CALI</td>\n",
       "      <td>VALLE DEL CAUCA</td>\n",
       "      <td>PRADOS DEL NORTE</td>\n",
       "      <td>CL 30N #  2B-38 LOCAL 370 CENTRO COMERCIAL SANTIAGO</td>\n",
       "      <td>0.00</td>\n",
       "      <td>0.0</td>\n",
       "      <td>COMERCIALIZABLE CON RESTRICCION</td>\n",
       "      <td>CUATRO</td>\n",
       "      <td>2.060800e+07</td>\n",
       "      <td>LOCAL</td>\n",
       "      <td>¡OPORTUNIDAD PARA INVERTIR! LOCAL EN PROINDIVISO, UBICADO EN EL NORTE DE CALI CON CERCANIA A PUNTOS INTERES COMO LA TERMINAL DE TRANSPORTES, COLEGIO HISPANOAMERICANO, EL VIVERO MUNICIPAL, EL MONUMENTO A LA SOLIDARIDAD, CLUB COLOMBIA Y PARQUE VERSALLE</td>\n",
       "    </tr>\n",
       "  </tbody>\n",
       "</table>\n",
       "<p>463 rows × 12 columns</p>\n",
       "</div>"
      ]
     },
     "execution_count": 63,
     "metadata": {},
     "output_type": "execute_result"
    }
   ],
   "execution_count": 63
  },
  {
   "metadata": {},
   "cell_type": "markdown",
   "source": "",
   "id": "1df57c92ac577305"
  },
  {
   "metadata": {},
   "cell_type": "markdown",
   "source": [
    "## Pregunta objetivo\n",
    "\n",
    "Teniendo en cuenta el tipo de datos presente en la base de datos **Inmuebles Disponibles Para La Venta** La pregunta planteada es:\n",
    "\n",
    "* ¿Cuales son las caracteristicas y relaciones que influyen en el precio?\n"
   ],
   "id": "5a5a2f310dbbbbb5"
  },
  {
   "metadata": {},
   "cell_type": "markdown",
   "source": "### Exploracion de los datos",
   "id": "4d6e21a306625a4"
  },
  {
   "metadata": {
    "ExecuteTime": {
     "end_time": "2024-07-15T18:54:55.457156Z",
     "start_time": "2024-07-15T18:54:55.447667Z"
    }
   },
   "cell_type": "code",
   "source": "df.groupby('Detalle Disponibilidad')['Detalle Disponibilidad'].count()",
   "id": "97dba96f598be65f",
   "outputs": [
    {
     "data": {
      "text/plain": [
       "Detalle Disponibilidad\n",
       "COMERCIALIZABLE                     289\n",
       "COMERCIALIZABLE CON RESTRICCION      83\n",
       "COMERCIALIZABLE FIDUCIA              13\n",
       "COMERCIALIZABLE TERCEROS             41\n",
       "COMERCIALIZABLE VENTA ANTICIPADA     14\n",
       "EN PUJA                              23\n",
       "Name: Detalle Disponibilidad, dtype: int64"
      ]
     },
     "execution_count": 26,
     "metadata": {},
     "output_type": "execute_result"
    }
   ],
   "execution_count": 26
  },
  {
   "metadata": {},
   "cell_type": "markdown",
   "source": "",
   "id": "b36555005c8dfc8a"
  },
  {
   "metadata": {
    "ExecuteTime": {
     "end_time": "2024-07-15T18:54:55.522967Z",
     "start_time": "2024-07-15T18:54:55.514162Z"
    }
   },
   "cell_type": "code",
   "source": "df.info()",
   "id": "e3b1e780d08e3459",
   "outputs": [
    {
     "name": "stdout",
     "output_type": "stream",
     "text": [
      "<class 'pandas.core.frame.DataFrame'>\n",
      "RangeIndex: 463 entries, 0 to 462\n",
      "Data columns (total 12 columns):\n",
      " #   Column                  Non-Null Count  Dtype  \n",
      "---  ------                  --------------  -----  \n",
      " 0   Codigo                  463 non-null    int64  \n",
      " 1   Ciudad                  463 non-null    object \n",
      " 2   Departamento            463 non-null    object \n",
      " 3   Barrio                  40 non-null     object \n",
      " 4   Direccion               463 non-null    object \n",
      " 5   Area Terreno            463 non-null    float64\n",
      " 6   Area Construida         463 non-null    float64\n",
      " 7   Detalle Disponibilidad  463 non-null    object \n",
      " 8   Estrato                 463 non-null    object \n",
      " 9   Precio                  463 non-null    float64\n",
      " 10  Tipo de Inmueble        463 non-null    object \n",
      " 11  Datos Adicionales       118 non-null    object \n",
      "dtypes: float64(3), int64(1), object(8)\n",
      "memory usage: 43.5+ KB\n"
     ]
    }
   ],
   "execution_count": 27
  },
  {
   "metadata": {
    "ExecuteTime": {
     "end_time": "2024-07-15T18:54:55.546407Z",
     "start_time": "2024-07-15T18:54:55.540972Z"
    }
   },
   "cell_type": "code",
   "source": "print(f'El total de los registros es: {df.shape[0]}', f'\\n\\ny elt total de columnas es: {df.shape[1]}')",
   "id": "dceb4ae59ae7d0dd",
   "outputs": [
    {
     "name": "stdout",
     "output_type": "stream",
     "text": [
      "El total de los registros es: 463 \n",
      "\n",
      "y elt total de columnas es: 12\n"
     ]
    }
   ],
   "execution_count": 28
  },
  {
   "metadata": {},
   "cell_type": "markdown",
   "source": "Exploracion de valores nulos",
   "id": "4bd455ce54d89abb"
  },
  {
   "metadata": {
    "ExecuteTime": {
     "end_time": "2024-07-15T18:54:55.594463Z",
     "start_time": "2024-07-15T18:54:55.589411Z"
    }
   },
   "cell_type": "code",
   "source": [
    "categoricos = ['barrio','ciudad', 'estrato', 'tipo de inmueble', 'Detalle disponibilidad'] \n",
    "numericos = ['Area construida','Area terreno', 'precio']\n",
    "\n",
    "print(f'Las variables categoricas son: {categoricos}', f'\\n\\nLas variables numericas son {numericos}')"
   ],
   "id": "3a6215de1c55537",
   "outputs": [
    {
     "name": "stdout",
     "output_type": "stream",
     "text": [
      "Las variables categoricas son: ['barrio', 'ciudad', 'estrato', 'tipo de inmueble', 'Detalle disponibilidad'] \n",
      "\n",
      "Las variables numericas son ['Area construida', 'Area terreno', 'precio']\n"
     ]
    }
   ],
   "execution_count": 29
  },
  {
   "metadata": {
    "ExecuteTime": {
     "end_time": "2024-07-15T18:54:55.636453Z",
     "start_time": "2024-07-15T18:54:55.628468Z"
    }
   },
   "cell_type": "code",
   "source": "df.isnull().sum()",
   "id": "e72b6d903c9a9340",
   "outputs": [
    {
     "data": {
      "text/plain": [
       "Codigo                      0\n",
       "Ciudad                      0\n",
       "Departamento                0\n",
       "Barrio                    423\n",
       "Direccion                   0\n",
       "Area Terreno                0\n",
       "Area Construida             0\n",
       "Detalle Disponibilidad      0\n",
       "Estrato                     0\n",
       "Precio                      0\n",
       "Tipo de Inmueble            0\n",
       "Datos Adicionales         345\n",
       "dtype: int64"
      ]
     },
     "execution_count": 30,
     "metadata": {},
     "output_type": "execute_result"
    }
   ],
   "execution_count": 30
  },
  {
   "metadata": {},
   "cell_type": "markdown",
   "source": [
    "Se evidencia que en las columnas: **Barrio** y **Datos  Adicionales**  de los cuales se decide precindir de estas columnas, ya que  no aportan mayor valor a el desarrollo de este analisis. \n",
    "    "
   ],
   "id": "a15bc64b83aeac08"
  },
  {
   "metadata": {
    "ExecuteTime": {
     "end_time": "2024-07-15T18:54:55.768326Z",
     "start_time": "2024-07-15T18:54:55.756464Z"
    }
   },
   "cell_type": "code",
   "source": [
    "df = df.drop_duplicates()\n",
    "df.info()"
   ],
   "id": "9e3266b343bb7848",
   "outputs": [
    {
     "name": "stdout",
     "output_type": "stream",
     "text": [
      "<class 'pandas.core.frame.DataFrame'>\n",
      "RangeIndex: 463 entries, 0 to 462\n",
      "Data columns (total 12 columns):\n",
      " #   Column                  Non-Null Count  Dtype  \n",
      "---  ------                  --------------  -----  \n",
      " 0   Codigo                  463 non-null    int64  \n",
      " 1   Ciudad                  463 non-null    object \n",
      " 2   Departamento            463 non-null    object \n",
      " 3   Barrio                  40 non-null     object \n",
      " 4   Direccion               463 non-null    object \n",
      " 5   Area Terreno            463 non-null    float64\n",
      " 6   Area Construida         463 non-null    float64\n",
      " 7   Detalle Disponibilidad  463 non-null    object \n",
      " 8   Estrato                 463 non-null    object \n",
      " 9   Precio                  463 non-null    float64\n",
      " 10  Tipo de Inmueble        463 non-null    object \n",
      " 11  Datos Adicionales       118 non-null    object \n",
      "dtypes: float64(3), int64(1), object(8)\n",
      "memory usage: 43.5+ KB\n"
     ]
    }
   ],
   "execution_count": 31
  },
  {
   "metadata": {
    "ExecuteTime": {
     "end_time": "2024-07-15T18:55:28.077155Z",
     "start_time": "2024-07-15T18:55:28.014014Z"
    }
   },
   "cell_type": "code",
   "source": "df = df.drop(columns=['Datos Adicionales', 'Barrio'], )",
   "id": "4e96a19d8f22b421",
   "outputs": [
    {
     "ename": "KeyError",
     "evalue": "\"['Datos Adicionales', 'Barrio'] not found in axis\"",
     "output_type": "error",
     "traceback": [
      "\u001B[1;31m---------------------------------------------------------------------------\u001B[0m",
      "\u001B[1;31mKeyError\u001B[0m                                  Traceback (most recent call last)",
      "Cell \u001B[1;32mIn[34], line 1\u001B[0m\n\u001B[1;32m----> 1\u001B[0m df \u001B[38;5;241m=\u001B[39m \u001B[43mdf\u001B[49m\u001B[38;5;241;43m.\u001B[39;49m\u001B[43mdrop\u001B[49m\u001B[43m(\u001B[49m\u001B[43mcolumns\u001B[49m\u001B[38;5;241;43m=\u001B[39;49m\u001B[43m[\u001B[49m\u001B[38;5;124;43m'\u001B[39;49m\u001B[38;5;124;43mDatos Adicionales\u001B[39;49m\u001B[38;5;124;43m'\u001B[39;49m\u001B[43m,\u001B[49m\u001B[43m \u001B[49m\u001B[38;5;124;43m'\u001B[39;49m\u001B[38;5;124;43mBarrio\u001B[39;49m\u001B[38;5;124;43m'\u001B[39;49m\u001B[43m]\u001B[49m\u001B[43m,\u001B[49m\u001B[43m \u001B[49m\u001B[43m)\u001B[49m\n",
      "File \u001B[1;32m~\\AppData\\Local\\Programs\\Python\\Python312\\Lib\\site-packages\\pandas\\core\\frame.py:5581\u001B[0m, in \u001B[0;36mDataFrame.drop\u001B[1;34m(self, labels, axis, index, columns, level, inplace, errors)\u001B[0m\n\u001B[0;32m   5433\u001B[0m \u001B[38;5;28;01mdef\u001B[39;00m \u001B[38;5;21mdrop\u001B[39m(\n\u001B[0;32m   5434\u001B[0m     \u001B[38;5;28mself\u001B[39m,\n\u001B[0;32m   5435\u001B[0m     labels: IndexLabel \u001B[38;5;241m|\u001B[39m \u001B[38;5;28;01mNone\u001B[39;00m \u001B[38;5;241m=\u001B[39m \u001B[38;5;28;01mNone\u001B[39;00m,\n\u001B[1;32m   (...)\u001B[0m\n\u001B[0;32m   5442\u001B[0m     errors: IgnoreRaise \u001B[38;5;241m=\u001B[39m \u001B[38;5;124m\"\u001B[39m\u001B[38;5;124mraise\u001B[39m\u001B[38;5;124m\"\u001B[39m,\n\u001B[0;32m   5443\u001B[0m ) \u001B[38;5;241m-\u001B[39m\u001B[38;5;241m>\u001B[39m DataFrame \u001B[38;5;241m|\u001B[39m \u001B[38;5;28;01mNone\u001B[39;00m:\n\u001B[0;32m   5444\u001B[0m \u001B[38;5;250m    \u001B[39m\u001B[38;5;124;03m\"\"\"\u001B[39;00m\n\u001B[0;32m   5445\u001B[0m \u001B[38;5;124;03m    Drop specified labels from rows or columns.\u001B[39;00m\n\u001B[0;32m   5446\u001B[0m \n\u001B[1;32m   (...)\u001B[0m\n\u001B[0;32m   5579\u001B[0m \u001B[38;5;124;03m            weight  1.0     0.8\u001B[39;00m\n\u001B[0;32m   5580\u001B[0m \u001B[38;5;124;03m    \"\"\"\u001B[39;00m\n\u001B[1;32m-> 5581\u001B[0m     \u001B[38;5;28;01mreturn\u001B[39;00m \u001B[38;5;28;43msuper\u001B[39;49m\u001B[43m(\u001B[49m\u001B[43m)\u001B[49m\u001B[38;5;241;43m.\u001B[39;49m\u001B[43mdrop\u001B[49m\u001B[43m(\u001B[49m\n\u001B[0;32m   5582\u001B[0m \u001B[43m        \u001B[49m\u001B[43mlabels\u001B[49m\u001B[38;5;241;43m=\u001B[39;49m\u001B[43mlabels\u001B[49m\u001B[43m,\u001B[49m\n\u001B[0;32m   5583\u001B[0m \u001B[43m        \u001B[49m\u001B[43maxis\u001B[49m\u001B[38;5;241;43m=\u001B[39;49m\u001B[43maxis\u001B[49m\u001B[43m,\u001B[49m\n\u001B[0;32m   5584\u001B[0m \u001B[43m        \u001B[49m\u001B[43mindex\u001B[49m\u001B[38;5;241;43m=\u001B[39;49m\u001B[43mindex\u001B[49m\u001B[43m,\u001B[49m\n\u001B[0;32m   5585\u001B[0m \u001B[43m        \u001B[49m\u001B[43mcolumns\u001B[49m\u001B[38;5;241;43m=\u001B[39;49m\u001B[43mcolumns\u001B[49m\u001B[43m,\u001B[49m\n\u001B[0;32m   5586\u001B[0m \u001B[43m        \u001B[49m\u001B[43mlevel\u001B[49m\u001B[38;5;241;43m=\u001B[39;49m\u001B[43mlevel\u001B[49m\u001B[43m,\u001B[49m\n\u001B[0;32m   5587\u001B[0m \u001B[43m        \u001B[49m\u001B[43minplace\u001B[49m\u001B[38;5;241;43m=\u001B[39;49m\u001B[43minplace\u001B[49m\u001B[43m,\u001B[49m\n\u001B[0;32m   5588\u001B[0m \u001B[43m        \u001B[49m\u001B[43merrors\u001B[49m\u001B[38;5;241;43m=\u001B[39;49m\u001B[43merrors\u001B[49m\u001B[43m,\u001B[49m\n\u001B[0;32m   5589\u001B[0m \u001B[43m    \u001B[49m\u001B[43m)\u001B[49m\n",
      "File \u001B[1;32m~\\AppData\\Local\\Programs\\Python\\Python312\\Lib\\site-packages\\pandas\\core\\generic.py:4788\u001B[0m, in \u001B[0;36mNDFrame.drop\u001B[1;34m(self, labels, axis, index, columns, level, inplace, errors)\u001B[0m\n\u001B[0;32m   4786\u001B[0m \u001B[38;5;28;01mfor\u001B[39;00m axis, labels \u001B[38;5;129;01min\u001B[39;00m axes\u001B[38;5;241m.\u001B[39mitems():\n\u001B[0;32m   4787\u001B[0m     \u001B[38;5;28;01mif\u001B[39;00m labels \u001B[38;5;129;01mis\u001B[39;00m \u001B[38;5;129;01mnot\u001B[39;00m \u001B[38;5;28;01mNone\u001B[39;00m:\n\u001B[1;32m-> 4788\u001B[0m         obj \u001B[38;5;241m=\u001B[39m \u001B[43mobj\u001B[49m\u001B[38;5;241;43m.\u001B[39;49m\u001B[43m_drop_axis\u001B[49m\u001B[43m(\u001B[49m\u001B[43mlabels\u001B[49m\u001B[43m,\u001B[49m\u001B[43m \u001B[49m\u001B[43maxis\u001B[49m\u001B[43m,\u001B[49m\u001B[43m \u001B[49m\u001B[43mlevel\u001B[49m\u001B[38;5;241;43m=\u001B[39;49m\u001B[43mlevel\u001B[49m\u001B[43m,\u001B[49m\u001B[43m \u001B[49m\u001B[43merrors\u001B[49m\u001B[38;5;241;43m=\u001B[39;49m\u001B[43merrors\u001B[49m\u001B[43m)\u001B[49m\n\u001B[0;32m   4790\u001B[0m \u001B[38;5;28;01mif\u001B[39;00m inplace:\n\u001B[0;32m   4791\u001B[0m     \u001B[38;5;28mself\u001B[39m\u001B[38;5;241m.\u001B[39m_update_inplace(obj)\n",
      "File \u001B[1;32m~\\AppData\\Local\\Programs\\Python\\Python312\\Lib\\site-packages\\pandas\\core\\generic.py:4830\u001B[0m, in \u001B[0;36mNDFrame._drop_axis\u001B[1;34m(self, labels, axis, level, errors, only_slice)\u001B[0m\n\u001B[0;32m   4828\u001B[0m         new_axis \u001B[38;5;241m=\u001B[39m axis\u001B[38;5;241m.\u001B[39mdrop(labels, level\u001B[38;5;241m=\u001B[39mlevel, errors\u001B[38;5;241m=\u001B[39merrors)\n\u001B[0;32m   4829\u001B[0m     \u001B[38;5;28;01melse\u001B[39;00m:\n\u001B[1;32m-> 4830\u001B[0m         new_axis \u001B[38;5;241m=\u001B[39m \u001B[43maxis\u001B[49m\u001B[38;5;241;43m.\u001B[39;49m\u001B[43mdrop\u001B[49m\u001B[43m(\u001B[49m\u001B[43mlabels\u001B[49m\u001B[43m,\u001B[49m\u001B[43m \u001B[49m\u001B[43merrors\u001B[49m\u001B[38;5;241;43m=\u001B[39;49m\u001B[43merrors\u001B[49m\u001B[43m)\u001B[49m\n\u001B[0;32m   4831\u001B[0m     indexer \u001B[38;5;241m=\u001B[39m axis\u001B[38;5;241m.\u001B[39mget_indexer(new_axis)\n\u001B[0;32m   4833\u001B[0m \u001B[38;5;66;03m# Case for non-unique axis\u001B[39;00m\n\u001B[0;32m   4834\u001B[0m \u001B[38;5;28;01melse\u001B[39;00m:\n",
      "File \u001B[1;32m~\\AppData\\Local\\Programs\\Python\\Python312\\Lib\\site-packages\\pandas\\core\\indexes\\base.py:7070\u001B[0m, in \u001B[0;36mIndex.drop\u001B[1;34m(self, labels, errors)\u001B[0m\n\u001B[0;32m   7068\u001B[0m \u001B[38;5;28;01mif\u001B[39;00m mask\u001B[38;5;241m.\u001B[39many():\n\u001B[0;32m   7069\u001B[0m     \u001B[38;5;28;01mif\u001B[39;00m errors \u001B[38;5;241m!=\u001B[39m \u001B[38;5;124m\"\u001B[39m\u001B[38;5;124mignore\u001B[39m\u001B[38;5;124m\"\u001B[39m:\n\u001B[1;32m-> 7070\u001B[0m         \u001B[38;5;28;01mraise\u001B[39;00m \u001B[38;5;167;01mKeyError\u001B[39;00m(\u001B[38;5;124mf\u001B[39m\u001B[38;5;124m\"\u001B[39m\u001B[38;5;132;01m{\u001B[39;00mlabels[mask]\u001B[38;5;241m.\u001B[39mtolist()\u001B[38;5;132;01m}\u001B[39;00m\u001B[38;5;124m not found in axis\u001B[39m\u001B[38;5;124m\"\u001B[39m)\n\u001B[0;32m   7071\u001B[0m     indexer \u001B[38;5;241m=\u001B[39m indexer[\u001B[38;5;241m~\u001B[39mmask]\n\u001B[0;32m   7072\u001B[0m \u001B[38;5;28;01mreturn\u001B[39;00m \u001B[38;5;28mself\u001B[39m\u001B[38;5;241m.\u001B[39mdelete(indexer)\n",
      "\u001B[1;31mKeyError\u001B[0m: \"['Datos Adicionales', 'Barrio'] not found in axis\""
     ]
    }
   ],
   "execution_count": 34
  },
  {
   "metadata": {
    "ExecuteTime": {
     "end_time": "2024-07-15T19:00:02.924098Z",
     "start_time": "2024-07-15T19:00:02.904574Z"
    }
   },
   "cell_type": "code",
   "source": [
    "informe_estadistico = df.describe()\n",
    "informe_estadistico"
   ],
   "id": "8b0e572d127fb3ff",
   "outputs": [
    {
     "data": {
      "text/plain": [
       "             Codigo  Area Terreno  Area Construida        Precio\n",
       "count    463.000000  4.630000e+02       463.000000  4.630000e+02\n",
       "mean   18003.151188  1.515204e+04        87.517279  6.672032e+08\n",
       "std     1992.191499  1.827101e+05      1137.469077  3.272992e+09\n",
       "min     2575.000000  0.000000e+00         0.000000  4.650000e+06\n",
       "25%    18184.500000  0.000000e+00         0.000000  1.230500e+07\n",
       "50%    18332.000000  0.000000e+00         0.000000  1.587000e+07\n",
       "75%    18539.500000  0.000000e+00         0.000000  1.379955e+08\n",
       "max    19344.000000  3.217197e+06     22724.000000  4.523379e+10"
      ],
      "text/html": [
       "<div>\n",
       "<style scoped>\n",
       "    .dataframe tbody tr th:only-of-type {\n",
       "        vertical-align: middle;\n",
       "    }\n",
       "\n",
       "    .dataframe tbody tr th {\n",
       "        vertical-align: top;\n",
       "    }\n",
       "\n",
       "    .dataframe thead th {\n",
       "        text-align: right;\n",
       "    }\n",
       "</style>\n",
       "<table border=\"1\" class=\"dataframe\">\n",
       "  <thead>\n",
       "    <tr style=\"text-align: right;\">\n",
       "      <th></th>\n",
       "      <th>Codigo</th>\n",
       "      <th>Area Terreno</th>\n",
       "      <th>Area Construida</th>\n",
       "      <th>Precio</th>\n",
       "    </tr>\n",
       "  </thead>\n",
       "  <tbody>\n",
       "    <tr>\n",
       "      <th>count</th>\n",
       "      <td>463.000000</td>\n",
       "      <td>4.630000e+02</td>\n",
       "      <td>463.000000</td>\n",
       "      <td>4.630000e+02</td>\n",
       "    </tr>\n",
       "    <tr>\n",
       "      <th>mean</th>\n",
       "      <td>18003.151188</td>\n",
       "      <td>1.515204e+04</td>\n",
       "      <td>87.517279</td>\n",
       "      <td>6.672032e+08</td>\n",
       "    </tr>\n",
       "    <tr>\n",
       "      <th>std</th>\n",
       "      <td>1992.191499</td>\n",
       "      <td>1.827101e+05</td>\n",
       "      <td>1137.469077</td>\n",
       "      <td>3.272992e+09</td>\n",
       "    </tr>\n",
       "    <tr>\n",
       "      <th>min</th>\n",
       "      <td>2575.000000</td>\n",
       "      <td>0.000000e+00</td>\n",
       "      <td>0.000000</td>\n",
       "      <td>4.650000e+06</td>\n",
       "    </tr>\n",
       "    <tr>\n",
       "      <th>25%</th>\n",
       "      <td>18184.500000</td>\n",
       "      <td>0.000000e+00</td>\n",
       "      <td>0.000000</td>\n",
       "      <td>1.230500e+07</td>\n",
       "    </tr>\n",
       "    <tr>\n",
       "      <th>50%</th>\n",
       "      <td>18332.000000</td>\n",
       "      <td>0.000000e+00</td>\n",
       "      <td>0.000000</td>\n",
       "      <td>1.587000e+07</td>\n",
       "    </tr>\n",
       "    <tr>\n",
       "      <th>75%</th>\n",
       "      <td>18539.500000</td>\n",
       "      <td>0.000000e+00</td>\n",
       "      <td>0.000000</td>\n",
       "      <td>1.379955e+08</td>\n",
       "    </tr>\n",
       "    <tr>\n",
       "      <th>max</th>\n",
       "      <td>19344.000000</td>\n",
       "      <td>3.217197e+06</td>\n",
       "      <td>22724.000000</td>\n",
       "      <td>4.523379e+10</td>\n",
       "    </tr>\n",
       "  </tbody>\n",
       "</table>\n",
       "</div>"
      ]
     },
     "execution_count": 41,
     "metadata": {},
     "output_type": "execute_result"
    }
   ],
   "execution_count": 41
  },
  {
   "metadata": {
    "ExecuteTime": {
     "end_time": "2024-07-15T19:15:24.297768Z",
     "start_time": "2024-07-15T19:15:24.292817Z"
    }
   },
   "cell_type": "code",
   "source": "df['Codigo'] = df['Codigo'].astype('str')",
   "id": "372599230be97bbe",
   "outputs": [],
   "execution_count": 56
  },
  {
   "metadata": {},
   "cell_type": "markdown",
   "source": "BUsqueda de valores erroneos",
   "id": "1f2fee0491cf3611"
  },
  {
   "metadata": {
    "ExecuteTime": {
     "end_time": "2024-07-15T19:31:22.711730Z",
     "start_time": "2024-07-15T19:31:22.703974Z"
    }
   },
   "cell_type": "code",
   "source": [
    "print(df['Estrato'].unique(), '\\n\\n')\n",
    "print(df['Tipo de Inmueble'].unique(), '\\n\\n')\n",
    "print(df['Precio'].describe())"
   ],
   "id": "7b6b4667075fd08f",
   "outputs": [
    {
     "name": "stdout",
     "output_type": "stream",
     "text": [
      "['TRES' 'COMERCIAL' 'CUATRO' 'RURAL' 'INDUSTRIAL' 'SEIS' 'CINCO' 'DOS'\n",
      " 'UNO'] \n",
      "\n",
      "\n",
      "['LOTE COMERCIAL' 'EDIFICIO' 'CLINICA' 'LOTE MIXTO'\n",
      " 'LOTE CON CONSTRUCCION' 'HOTEL' 'BODEGA' 'APARTAMENTO' 'LOTE VIVIENDA'\n",
      " 'FINCA' 'EDIFICIO OFICINAS' 'CASA' 'LOCAL' 'LOTE INDUSTRIAL' 'LOTE'\n",
      " 'OFICINA' 'GARAJE' 'DEPOSITO' 'LOTE AGRICOLA'] \n",
      "\n",
      "\n",
      "count    4.630000e+02\n",
      "mean     6.672032e+08\n",
      "std      3.272992e+09\n",
      "min      4.650000e+06\n",
      "25%      1.230500e+07\n",
      "50%      1.587000e+07\n",
      "75%      1.379955e+08\n",
      "max      4.523379e+10\n",
      "Name: Precio, dtype: float64\n"
     ]
    }
   ],
   "execution_count": 66
  },
  {
   "metadata": {},
   "cell_type": "markdown",
   "source": "No hay valores erroneos ",
   "id": "8b6680b96c0dd0ef"
  },
  {
   "metadata": {},
   "cell_type": "markdown",
   "source": [
    "### Identifiar valores atipicos y Graficos\n",
    "\n",
    "Para la comprencion de relaciones entre variables que se relaiconene de forma directa con el precio, Se evaluaran variables como que se entiende tienen relacion con el precio de cualquier inmueble como lo son: \n",
    "\n",
    "* Area Terreno\n",
    "* Area Construida\n",
    "* Estrato\n",
    "* Tipo de inmueble\n",
    "\n"
   ],
   "id": "7db7f6d786f74720"
  },
  {
   "metadata": {},
   "cell_type": "markdown",
   "source": "",
   "id": "38d3e359cf20bbf7"
  },
  {
   "metadata": {
    "ExecuteTime": {
     "end_time": "2024-07-15T19:35:15.618120Z",
     "start_time": "2024-07-15T19:35:15.362681Z"
    }
   },
   "cell_type": "code",
   "source": [
    "plt.figure(figsize=(10, 6))\n",
    "sns.boxplot(x=df['Precio'], y=df['Estrato'] )\n",
    "plt.title('Boxplot de Precio')\n",
    "plt.show()\n",
    "\n"
   ],
   "id": "1062a085058f5a9b",
   "outputs": [
    {
     "data": {
      "text/plain": [
       "<Figure size 640x480 with 1 Axes>"
      ],
      "image/png": "[encoded data removed]"
     },
     "metadata": {},
     "output_type": "display_data"
    }
   ],
   "execution_count": 75
  },
  {
   "metadata": {},
   "cell_type": "markdown",
   "source": [
    "## De este BoxPlot podemos concluir que:\n",
    "\n",
    "### Estrato TRES:\n",
    "\n",
    "**Distribución de Precios**: La mediana del precio se encuentra en el extremo inferior del rango de precios, indicando que la mayoría de los inmuebles en esta categoría tienen precios bajos.\n",
    "\n",
    "**Valores Atípicos**: Hay varios valores atípicos elevados, sugiriendo que aunque la mayoría de los inmuebles tienen precios bajos, hay algunos con precios excepcionalmente altos.\n",
    "\n",
    "### COMERCIAL:\n",
    "\n",
    "**Distribución de Precios**: Los precios de los inmuebles comerciales están más concentrados, lo que indica una menor variabilidad en esta categoría.\n",
    "\n",
    "**Valores Atípicos**: Hay algunos valores atípicos hacia los extremos, pero en general, los precios son más consistentes y no tan altos como en otras categorías.\n",
    "\n",
    "### CUATRO:\n",
    "\n",
    "**Distribución de Precios**: Esta categoría tiene una amplia gama de precios, con una mediana más elevada en comparación con TRES y COMERCIAL.\n",
    "\n",
    "**Valores Atípicos**: Existen varios valores atípicos, lo que sugiere que algunos inmuebles en esta categoría tienen precios excepcionalmente altos.\n",
    "\n",
    "### RURAL:\n",
    "\n",
    "**Distribución de Precios**: Los precios en la categoría rural son muy variables, indicando una gran diversidad en el tipo de inmuebles que se incluyen bajo esta categoría.\n",
    "\n",
    "**Valores Atípicos**: Numerosos valores atípicos elevados sugieren que hay propiedades rurales con precios significativamente altos.\n",
    "\n",
    "### INDUSTRIAL:\n",
    "\n",
    "**Distribución de Precios**: Los precios en esta categoría son bastante concentrados, lo que indica una menor variabilidad.\n",
    "\n",
    "**Valores Atípicos**: Aunque la mediana y el rango intercuartil son más bajos, hay valores atípicos que indican algunos inmuebles industriales con precios altos.\n",
    "\n",
    "### SEIS:\n",
    "\n",
    "**Distribución de Precios**: Al igual que INDUSTRIAL, SEIS tiene una menor variabilidad en los precios.\n",
    "\n",
    "**Valores Atípicos**: Aunque hay menos dispersión, hay algunos precios excepcionalmente altos.\n",
    "\n",
    "### CINCO:\n",
    "\n",
    "**Distribución de Precios**: Similar a SEIS, con una distribución de precios concentrada.\n",
    "\n",
    "**Valores Atípicos**: Algunos valores atípicos elevados, pero menos dispersión en comparación con CUATRO y RURAL.\n",
    "\n",
    "### DOS:\n",
    "\n",
    "**Distribución de Precios**: Esta categoría muestra una concentración de precios similar a CINCO y SEIS.\n",
    "\n",
    "**Valores Atípicos**: Hay pocos valores atípicos, lo que sugiere que los precios en esta categoría son más consistentes.\n",
    "\n",
    "### UNO:\n",
    "\n",
    "**Distribución de Precios**: Los precios en esta categoría están muy concentrados, con menos dispersión.\n",
    "\n",
    "**Valores Atípicos**: Pocos valores atípicos indican una mayor consistencia en los precios.\n",
    "\n",
    "### Observaciones Generales:\n",
    "\n",
    "- Las categorías con una mayor dispersión de precios (TRES, CUATRO, y RURAL) muestran que hay una mayor diversidad en los tipos de inmuebles y sus precios.\n",
    "- Las categorías con menor dispersión (COMERCIAL, INDUSTRIAL, SEIS, CINCO, DOS, UNO) indican una mayor consistencia en los precios de los inmuebles.\n",
    "- La presencia de valores atípicos en casi todas las categorías sugiere que hay excepciones significativas en los precios dentro de cada categoría, que podrían ser analizadas más a fondo para entender las razones detrás de estos precios anómalos (por ejemplo, ubicaciones premium, tamaño del inmueble, etc.).\n"
   ],
   "id": "f6a2681350b74905"
  },
  {
   "metadata": {
    "ExecuteTime": {
     "end_time": "2024-07-15T22:00:53.227394Z",
     "start_time": "2024-07-15T22:00:52.921931Z"
    }
   },
   "cell_type": "code",
   "source": [
    "plt.figure(figsize=(10, 6))\n",
    "sns.histplot(df['Estrato'], bins=30, kde=True, legend=True)\n",
    "plt.title('Conteo por Estrato')\n",
    "plt.show()\n"
   ],
   "id": "5aead6da2ae94e4b",
   "outputs": [
    {
     "data": {
      "text/plain": [
       "<Figure size 1000x600 with 1 Axes>"
      ],
      "image/png": "[encoded data removed]"
     },
     "metadata": {},
     "output_type": "display_data"
    }
   ],
   "execution_count": 85
  },
  {
   "metadata": {},
   "cell_type": "markdown",
   "source": "",
   "id": "5b2007e57beb7533"
  },
  {
   "metadata": {},
   "cell_type": "markdown",
   "source": [
    "## Analisis histograma y comparacion con Boxplot\n",
    "\n",
    "### Estrato TRES:\n",
    "\n",
    "**Distribución de Precios:** La mediana del precio se encuentra en el extremo inferior del rango de precios, indicando que la mayoría de los inmuebles en esta categoría tienen precios bajos.\n",
    "**Valores Atípicos:** Hay varios valores atípicos elevados, sugiriendo que aunque la mayoría de los inmuebles tienen precios bajos, hay algunos con precios excepcionalmente altos.\n",
    "\n",
    "### Estrato COMERCIAL:\n",
    "\n",
    "**Distribución de Precios:** Los precios de los inmuebles comerciales están más concentrados, lo que indica una menor variabilidad en esta categoría.\n",
    "**Valores Atípicos:** Hay algunos valores atípicos hacia los extremos, pero en general, los precios son más consistentes y no tan altos como en otras categorías.\n",
    "\n",
    "### Estrato CUATRO:\n",
    "\n",
    "**Distribución de Precios:** Esta categoría tiene una amplia gama de precios, con una mediana más elevada en comparación con TRES y COMERCIAL.\n",
    "**Valores Atípicos:** Existen varios valores atípicos, lo que sugiere que algunos inmuebles en esta categoría tienen precios excepcionalmente altos.\n",
    "\n",
    "### Estrato RURAL:\n",
    "\n",
    "**Distribución de Precios:** Los precios en la categoría rural son muy variables, indicando una gran diversidad en el tipo de inmuebles que se incluyen bajo esta categoría.\n",
    "**Valores Atípicos:** Numerosos valores atípicos elevados sugieren que hay propiedades rurales con precios significativamente altos.\n",
    "\n",
    "### Estrato INDUSTRIAL:\n",
    "\n",
    "**Distribución de Precios:** Los precios en esta categoría son bastante concentrados, lo que indica una menor variabilidad.\n",
    "**Valores Atípicos:** Aunque la mediana y el rango intercuartil son más bajos, hay valores atípicos que indican algunos inmuebles industriales con precios altos.\n",
    "\n",
    "### Estrato SEIS:\n",
    "\n",
    "**Distribución de Precios:** Al igual que INDUSTRIAL, SEIS tiene una menor variabilidad en los precios.\n",
    "**Valores Atípicos:** Aunque hay menos dispersión, hay algunos precios excepcionalmente altos.\n",
    "\n",
    "### Estrato CINCO:\n",
    "\n",
    "**Distribución de Precios:** Similar a SEIS, con una distribución de precios concentrada.\n",
    "**Valores Atípicos:** Algunos valores atípicos elevados, pero menos dispersión en comparación con CUATRO y RURAL.\n",
    "\n",
    "### Estrato DOS:\n",
    "\n",
    "**Distribución de Precios:** Esta categoría muestra una concentración de precios similar a CINCO y SEIS.\n",
    "**Valores Atípicos:** Hay pocos valores atípicos, lo que sugiere que los precios en esta categoría son más consistentes.\n",
    "\n",
    "### Estrato UNO:\n",
    "\n",
    "**Distribución de Precios:** Los precios en esta categoría están muy concentrados, con menos dispersión.\n",
    "**Valores Atípicos:** Pocos valores atípicos indican una mayor consistencia en los precios.\n",
    "\n",
    "### Observaciones Generales:\n",
    "\n",
    "- Las categorías con una mayor dispersión de precios (TRES, CUATRO, y RURAL) muestran que hay una mayor diversidad en los tipos de inmuebles y sus precios.\n",
    "- Las categorías con menor dispersión (COMERCIAL, INDUSTRIAL, SEIS, CINCO, DOS, UNO) indican una mayor consistencia en los precios de los inmuebles.\n",
    "- La presencia de valores atípicos en casi todas las categorías sugiere que hay excepciones significativas en los precios dentro de cada categoría, que podrían ser analizadas más a fondo para entender las razones detrás de estos precios anómalos (por ejemplo, ubicaciones premium, tamaño del inmueble, etc.).\n"
   ],
   "id": "fa6ae2cd09d5b3ed"
  },
  {
   "metadata": {},
   "cell_type": "markdown",
   "source": "",
   "id": "9232dce67435a098"
  },
  {
   "metadata": {},
   "cell_type": "code",
   "outputs": [],
   "execution_count": null,
   "source": "",
   "id": "a3f49cf05995b026"
  }
 ],
 "metadata": {
  "kernelspec": {
   "display_name": "Python 3",
   "language": "python",
   "name": "python3"
  },
  "language_info": {
   "codemirror_mode": {
    "name": "ipython",
    "version": 2
   },
   "file_extension": ".py",
   "mimetype": "text/x-python",
   "name": "python",
   "nbconvert_exporter": "python",
   "pygments_lexer": "ipython2",
   "version": "2.7.6"
  }
 },
 "nbformat": 4,
 "nbformat_minor": 5
}
